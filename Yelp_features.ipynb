{
 "cells": [
  {
   "cell_type": "code",
   "execution_count": 1,
   "metadata": {},
   "outputs": [],
   "source": [
    "import pandas as pd\n",
    "import os\n",
    "import numpy as np\n",
    "from tqdm import tqdm\n",
    "import matplotlib.pyplot as plt\n",
    "from sklearn.cluster import DBSCAN\n",
    "from geopy import distance\n",
    "from geopy.distance import great_circle\n",
    "from shapely.geometry import MultiPoint\n",
    "from uszipcode import SearchEngine"
   ]
  },
  {
   "cell_type": "code",
   "execution_count": 2,
   "metadata": {},
   "outputs": [
    {
     "name": "stdout",
     "output_type": "stream",
     "text": [
      "Loading business data ...\n",
      "Loading checkin data ...\n",
      "Loading review data ...\n",
      "All datasets have been loaded!\n"
     ]
    }
   ],
   "source": [
    "data_dir = os.getcwd() + '/yelp_dataset'\n",
    "\n",
    "def load_dataset(data_dir, file):\n",
    "    df = pd.DataFrame([])\n",
    "    data_chunk = pd.read_json(os.path.join(data_dir, file), lines=True, chunksize=100000)\n",
    "    for chunk in data_chunk:\n",
    "          df = pd.concat([df, chunk])\n",
    "    return df\n",
    "\n",
    "print('Loading business data ...')\n",
    "df_business = load_dataset(data_dir, 'business.json')\n",
    "print('Loading checkin data ...')\n",
    "df_checkin = load_dataset(data_dir, 'checkin.json')\n",
    "print('Loading review data ...')\n",
    "df_review = load_dataset(data_dir, 'review.json')\n",
    "\n",
    "print('All datasets have been loaded!')"
   ]
  },
  {
   "cell_type": "markdown",
   "metadata": {},
   "source": [
    "## Enrich features for businesses in US "
   ]
  },
  {
   "cell_type": "code",
   "execution_count": 3,
   "metadata": {},
   "outputs": [
    {
     "name": "stderr",
     "output_type": "stream",
     "text": [
      "100%|██████████| 891/891 [00:00<00:00, 1251.47it/s]\n",
      "100%|██████████| 891/891 [00:00<00:00, 1304.82it/s]\n",
      "100%|██████████| 891/891 [00:00<00:00, 1301.25it/s]\n",
      "100%|██████████| 891/891 [00:00<00:00, 1300.24it/s]\n"
     ]
    }
   ],
   "source": [
    "def enrich_business_features(df):\n",
    "    \"\"\"\n",
    "    enrich business in the US with population, population density,\n",
    "    land area and median household income by searching with zipcode\n",
    "    \"\"\"\n",
    "    # list of US state abbreviations\n",
    "    states = [\"AL\", \"AK\", \"AZ\", \"AR\", \"CA\", \"CO\", \"CT\", \"DC\", \"DE\", \"FL\", \"GA\", \n",
    "              \"HI\", \"ID\", \"IL\", \"IN\", \"IA\", \"KS\", \"KY\", \"LA\", \"ME\", \"MD\", \n",
    "              \"MA\", \"MI\", \"MN\", \"MS\", \"MO\", \"MT\", \"NE\", \"NV\", \"NH\", \"NJ\", \n",
    "              \"NM\", \"NY\", \"NC\", \"ND\", \"OH\", \"OK\", \"OR\", \"PA\", \"RI\", \"SC\", \n",
    "              \"SD\", \"TN\", \"TX\", \"UT\", \"VT\", \"VA\", \"WA\", \"WV\", \"WI\", \"WY\"]\n",
    "    # keep only businesses in US\n",
    "    df_business_us = df[df['state'].isin(states)]\n",
    "    # get rid of missing zipcode items\n",
    "    df_with_zipcode = df_business_us[~(df_business_us['postal_code']=='')] \n",
    "    # activate search search engine which would provide more features relate to zipcode\n",
    "    search = SearchEngine(simple_zipcode=True)\n",
    "    df_zipcode = pd.DataFrame()\n",
    "    zipcode = df_with_zipcode['postal_code'].unique()\n",
    "    df_zipcode['postal_code'] = zipcode\n",
    "    # perform searching and enrich features\n",
    "    df_zipcode['population'] = [search.by_zipcode(i).to_dict()['population'] for i in tqdm(zipcode)]\n",
    "    df_zipcode['population_density'] = [search.by_zipcode(i).to_dict()['population_density'] for i in tqdm(zipcode)]\n",
    "    df_zipcode['land_area_in_sqmi'] = [search.by_zipcode(i).to_dict()['land_area_in_sqmi'] for i in tqdm(zipcode)]\n",
    "    df_zipcode['median_household_income'] = [search.by_zipcode(i).to_dict()['median_household_income'] for i in tqdm(zipcode)]\n",
    "    # merge features to business dataframe\n",
    "    df = df_business_us.merge(df_zipcode, how='left', on='postal_code').dropna()\n",
    "    \n",
    "    return df\n",
    "\n",
    "df_business = enrich_business_features(df_business)"
   ]
  },
  {
   "cell_type": "markdown",
   "metadata": {},
   "source": [
    "## Extract review features and merge into business"
   ]
  },
  {
   "cell_type": "code",
   "execution_count": 4,
   "metadata": {},
   "outputs": [
    {
     "name": "stdout",
     "output_type": "stream",
     "text": [
      "Extracting review features ...\n"
     ]
    },
    {
     "name": "stderr",
     "output_type": "stream",
     "text": [
      "  4%|▎         | 6758/192606 [00:00<00:02, 67571.20it/s]"
     ]
    },
    {
     "name": "stdout",
     "output_type": "stream",
     "text": [
      "Calculating business duration accoring to review time...\n"
     ]
    },
    {
     "name": "stderr",
     "output_type": "stream",
     "text": [
      "100%|██████████| 192606/192606 [00:02<00:00, 71360.99it/s]\n"
     ]
    },
    {
     "name": "stdout",
     "output_type": "stream",
     "text": [
      "Review features extracted!\n"
     ]
    }
   ],
   "source": [
    "def review_features(df):\n",
    "    print('Extracting review features ...')\n",
    "    # get total number of 'cool', 'funny' and 'useful'\n",
    "    df_review_statistic = df.groupby('business_id')[['cool', 'funny', 'useful']].sum()\n",
    "    # get average stars\n",
    "    df_review_statistic['avg_stars_review'] = df.groupby('business_id')[['stars']].mean()\n",
    "    # group review timestamps into a list\n",
    "    df_review_statistic['date'] = df.groupby('business_id')['date'].apply(list)\n",
    "    review_date = df_review_statistic['date'].values\n",
    "    # get number of reviews\n",
    "    df_review_statistic['review_count'] = [len(dates) for dates in review_date]\n",
    "    # extract 1st and last review year and month\n",
    "    review_start = [min(i) for i in review_date]\n",
    "    review_latest = [max(i) for i in review_date]\n",
    "    df_review_statistic['review_start_year'] = list(map(lambda x: x.year, review_start))\n",
    "    df_review_statistic['review_start_month'] = list(map(lambda x: x.month, review_start))\n",
    "    df_review_statistic['review_latest_year'] = list(map(lambda x: x.year, review_latest))\n",
    "    df_review_statistic['review_latest_month'] = list(map(lambda x: x.month, review_latest))\n",
    "    # get duration of review in years\n",
    "    review_duration = np.array(review_latest) - np.array(review_start)\n",
    "    print('Calculating business duration accoring to review time...')\n",
    "    df_review_statistic['review_duration'] = [item/pd.Timedelta(days=365.25) for item in tqdm(review_duration)]\n",
    "    # get review rate per month\n",
    "    df_review_statistic['review_per_month'] = df_review_statistic['review_count']/df_review_statistic['review_duration']/12\n",
    "    # drop redundant columns\n",
    "    df_review_statistic.drop(columns=['date', 'review_count'], inplace=True)\n",
    "    print('Review features extracted!')\n",
    "    \n",
    "    return df_review_statistic\n",
    "\n",
    "df_review_statistic = review_features(df_review)\n",
    "df_business = df_business.merge(df_review_statistic, on='business_id', how='inner')"
   ]
  },
  {
   "cell_type": "markdown",
   "metadata": {},
   "source": [
    "## Extract checkin featueas and merge into business"
   ]
  },
  {
   "cell_type": "code",
   "execution_count": 5,
   "metadata": {},
   "outputs": [
    {
     "name": "stdout",
     "output_type": "stream",
     "text": [
      "Extracting checkin features...\n",
      "Checkin features have been extracted!\n"
     ]
    }
   ],
   "source": [
    "def checkin_features(df):\n",
    "    print('Extracting checkin features...')\n",
    "    checkin = df['date'].values\n",
    "    checkin_split = list(map(lambda x: x.split(','), checkin))\n",
    "    # extract 1st and last checkin time\n",
    "    checkin_start = np.array([pd.Timestamp(i[0]) for i in checkin_split])\n",
    "    checkin_stop = np.array([pd.Timestamp(i[-1]) for i in checkin_split])\n",
    "    # get duration of checkin \n",
    "    checkin_duration = checkin_stop - checkin_start\n",
    "    df['checkin_duration'] = [item/pd.Timedelta(days=365.25) for item in checkin_duration]\n",
    "    # extract 1st and last checkin year and month\n",
    "    df['checkin_start_year'] = list(map(lambda x: x.year, checkin_start))\n",
    "    df['checkin_start_month'] = list(map(lambda x: x.month, checkin_start))\n",
    "    df['checkin_latest_year'] = list(map(lambda x: x.year, checkin_stop))\n",
    "    df['checkin_latest_month'] = list(map(lambda x: x.month, checkin_stop))\n",
    "    # get number of checkins\n",
    "    df['checkin_count'] = list(map(lambda x: len(x), checkin_split))\n",
    "    # calculate checkins per month\n",
    "    df['checkin_per_month'] = df['checkin_count']/df['checkin_duration']/12\n",
    "    df.drop(columns=['date'], inplace=True)\n",
    "    print('Checkin features have been extracted!')\n",
    "    \n",
    "    return df\n",
    "\n",
    "df_checkin = checkin_features(df_checkin)\n",
    "df_business = df_business.merge(df_checkin, on='business_id', how='inner')"
   ]
  },
  {
   "cell_type": "markdown",
   "metadata": {},
   "source": [
    "## Cluster business with Geo-coordinates"
   ]
  },
  {
   "cell_type": "code",
   "execution_count": 9,
   "metadata": {},
   "outputs": [
    {
     "name": "stdout",
     "output_type": "stream",
     "text": [
      "Clustering business according to Geo-coordinates ...\n",
      "Number of clusters: 38063\n"
     ]
    }
   ],
   "source": [
    "def business_clustering(df):\n",
    "    print(\"Clustering business according to Geo-coordinates ...\")\n",
    "    \"\"\"\n",
    "    DBSCAN - Density-Based Spatial Clustering of Applications with Noise\n",
    "    \"\"\"\n",
    "    coords = df[['latitude', 'longitude']].values\n",
    "    # radius of the earth in km\n",
    "    kms_per_radian = 6371\n",
    "    # the minimus distance between two restruants is 50m\n",
    "    epsilon = .05 / kms_per_radian\n",
    "    # perform clustering\n",
    "    db = DBSCAN(eps=epsilon, min_samples=1, algorithm='ball_tree', metric='haversine').fit(np.radians(coords))\n",
    "    cluster_labels = db.labels_\n",
    "    num_clusters = len(set(cluster_labels))\n",
    "    clusters = pd.Series([coords[cluster_labels == n] for n in range(num_clusters)])\n",
    "    print('Number of clusters: {}'.format(num_clusters))\n",
    "    df['coords_cluster_label'] = cluster_labels\n",
    "    # number of business in each cluster\n",
    "    counts_cluster = [len(cluster) for cluster in clusters]\n",
    "    df['neighbors'] = [counts_cluster[i] for i in cluster_labels]\n",
    "    # if the number of neighbors > 20, the business in a chain\n",
    "    df['is_chain'] = df['neighbors'] >=5\n",
    "    df['is_chain'] = df_business['is_chain'].astype(int)\n",
    "    \n",
    "    return df\n",
    "\n",
    "df_business = business_clustering(df_business)\n",
    "df_business.to_pickle(os.path.join(data_dir, 'features.pkl'))"
   ]
  },
  {
   "cell_type": "code",
   "execution_count": 9,
   "metadata": {},
   "outputs": [
    {
     "data": {
      "text/plain": [
       "Index(['address', 'attributes', 'business_id', 'categories', 'city', 'hours',\n",
       "       'is_open', 'latitude', 'longitude', 'name', 'postal_code',\n",
       "       'review_count_x', 'stars', 'state', 'population', 'population_density',\n",
       "       'land_area_in_sqmi', 'median_household_income', 'cool', 'funny',\n",
       "       'useful', 'stars_review', 'review_count_y', 'review_start_year',\n",
       "       'review_start_month', 'review_latest_year', 'review_latest_month',\n",
       "       'review_duration', 'review_per_month', 'checkin_duration',\n",
       "       'checkin_start_year', 'checkin_start_month', 'checkin_latest_year',\n",
       "       'checkin_latest_month', 'checkin_count', 'checkin_per_month',\n",
       "       'coords_cluster_label', 'neighbors', 'is_chain'],\n",
       "      dtype='object')"
      ]
     },
     "execution_count": 9,
     "metadata": {},
     "output_type": "execute_result"
    }
   ],
   "source": [
    "df_business.columns"
   ]
  },
  {
   "cell_type": "code",
   "execution_count": 8,
   "metadata": {},
   "outputs": [],
   "source": []
  },
  {
   "cell_type": "code",
   "execution_count": 13,
   "metadata": {},
   "outputs": [
    {
     "data": {
      "image/png": "[encoded data removed]",
      "text/plain": [
       "<Figure size 432x288 with 1 Axes>"
      ]
     },
     "metadata": {
      "needs_background": "light"
     },
     "output_type": "display_data"
    }
   ],
   "source": [
    "df_business[df_business['is_open']==0]['checkin_duration'].hist(bins=20)\n",
    "plt.show()"
   ]
  },
  {
   "cell_type": "code",
   "execution_count": 14,
   "metadata": {},
   "outputs": [
    {
     "data": {
      "image/png": "[encoded data removed]",
      "text/plain": [
       "<Figure size 432x288 with 1 Axes>"
      ]
     },
     "metadata": {
      "needs_background": "light"
     },
     "output_type": "display_data"
    }
   ],
   "source": [
    "df_business[df_business['is_open']==1]['checkin_duration'].hist(bins=20)\n",
    "plt.show()"
   ]
  },
  {
   "cell_type": "code",
   "execution_count": 17,
   "metadata": {},
   "outputs": [
    {
     "data": {
      "text/plain": [
       "address                                            10110 Johnston Rd, Ste 15\n",
       "attributes                 {'GoodForKids': 'True', 'NoiseLevel': 'u'avera...\n",
       "business_id                                           gnKjwL_1w79qoiV3IC_xQQ\n",
       "categories                                 Sushi Bars, Restaurants, Japanese\n",
       "city                                                               Charlotte\n",
       "hours                      {'Monday': '17:30-21:30', 'Wednesday': '17:30-...\n",
       "is_open                                                                    1\n",
       "latitude                                                             35.0926\n",
       "longitude                                                           -80.8591\n",
       "name                                             Musashi Japanese Restaurant\n",
       "postal_code                                                            28210\n",
       "review_count_x                                                           170\n",
       "stars                                                                      4\n",
       "state                                                                     NC\n",
       "population                                                             42263\n",
       "population_density                                                      3327\n",
       "land_area_in_sqmi                                                       12.7\n",
       "median_household_income                                                54915\n",
       "cool                                                                      64\n",
       "funny                                                                     50\n",
       "useful                                                                   195\n",
       "stars_review                                                         4.07303\n",
       "review_count_y                                                           178\n",
       "review_start_year                                                       2008\n",
       "review_start_month                                                         5\n",
       "review_latest_year                                                      2018\n",
       "review_latest_month                                                       11\n",
       "review_duration                                                      10.4545\n",
       "review_per_month                                                     1.41884\n",
       "checkin_duration                                                     7.99364\n",
       "checkin_start_year                                                      2010\n",
       "checkin_start_month                                                       11\n",
       "checkin_latest_year                                                     2018\n",
       "checkin_latest_month                                                      11\n",
       "checkin_count                                                            721\n",
       "checkin_per_month                                                    7.51639\n",
       "coords_cluster_label                                                       0\n",
       "neigbors                                                                   2\n",
       "Name: 0, dtype: object"
      ]
     },
     "execution_count": 17,
     "metadata": {},
     "output_type": "execute_result"
    }
   ],
   "source": [
    "df_business.iloc[0]"
   ]
  },
  {
   "cell_type": "code",
   "execution_count": null,
   "metadata": {},
   "outputs": [],
   "source": [
    "# text idea to group business\n",
    "# https://www.kaggle.com/ksjpswaroop/yelp-data-analysis"
   ]
  }
 ],
 "metadata": {
  "kernelspec": {
   "display_name": "Python 3",
   "language": "python",
   "name": "python3"
  },
  "language_info": {
   "codemirror_mode": {
    "name": "ipython",
    "version": 3
   },
   "file_extension": ".py",
   "mimetype": "text/x-python",
   "name": "python",
   "nbconvert_exporter": "python",
   "pygments_lexer": "ipython3",
   "version": "3.7.3"
  }
 },
 "nbformat": 4,
 "nbformat_minor": 2
}
