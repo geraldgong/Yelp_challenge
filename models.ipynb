{
 "cells": [
  {
   "cell_type": "code",
   "execution_count": 111,
   "metadata": {},
   "outputs": [],
   "source": [
    "import pandas as pd\n",
    "import os\n",
    "import numpy as np\n",
    "from tqdm import tqdm\n",
    "import matplotlib.pyplot as plt\n",
    "from sklearn.model_selection import train_test_split\n",
    "from sklearn.metrics import classification_report\n",
    "from sklearn.metrics import confusion_matrix\n",
    "from sklearn.metrics import roc_curve\n",
    "from sklearn.model_selection import GridSearchCV\n",
    "from sklearn.model_selection import cross_validate\n",
    "from sklearn.model_selection import KFold\n",
    "import lightgbm as lgb"
   ]
  },
  {
   "cell_type": "markdown",
   "metadata": {},
   "source": [
    "## Loading data"
   ]
  },
  {
   "cell_type": "code",
   "execution_count": 116,
   "metadata": {},
   "outputs": [],
   "source": [
    "data_dir = os.getcwd() + '/yelp_dataset'\n",
    "data = pd.read_pickle(os.path.join(data_dir, 'features.pkl'))"
   ]
  },
  {
   "cell_type": "code",
   "execution_count": 56,
   "metadata": {},
   "outputs": [],
   "source": [
    "# take 20% opened business data\n",
    "# data_open = data[data['is_open']==1]\n",
    "# data_close = data[data['is_open']==0]\n",
    "# data_sampled = pd.concat([data_close, data_open.sample(frac=0.2, random_state=21)])"
   ]
  },
  {
   "cell_type": "markdown",
   "metadata": {},
   "source": [
    "## Preprocessing"
   ]
  },
  {
   "cell_type": "code",
   "execution_count": 117,
   "metadata": {},
   "outputs": [],
   "source": [
    "# prepare data sets for modeling\n",
    "def prepare_data(data):\n",
    "    drop_list = ['address', 'attributes', 'business_id', 'categories', 'city', 'hours',\n",
    "                 'latitude', 'longitude', 'name', 'postal_code', 'state', 'stars',]\n",
    "\n",
    "    data = data.drop(columns=drop_list).dropna()\n",
    "    data = data.replace([np.inf, -np.inf], 0)\n",
    "    X = data.drop(columns='is_open')\n",
    "    y = data['is_open']\n",
    "    \n",
    "    return X, y"
   ]
  },
  {
   "cell_type": "code",
   "execution_count": 118,
   "metadata": {},
   "outputs": [],
   "source": [
    "# Oversampling\n",
    "from sklearn.utils import resample\n",
    "\n",
    "def resampling_data(data):\n",
    "    # separate features and labels\n",
    "    X, y = prepare_data(data)\n",
    "    # split the data into test and training sets\n",
    "    X_train, X_test, y_train, y_test = train_test_split(X, y, test_size=0.33, random_state=42)\n",
    "    # concatenate training data back \n",
    "    t_data = pd.concat([X_train, y_train], axis=1)\n",
    "    # separate open and close businesses\n",
    "    data_open = t_data[t_data['is_open']==1]\n",
    "    data_close = t_data[t_data['is_open']==0]\n",
    "    # oversample minority\n",
    "    n_samples = int(len(data_open)*0.8) \n",
    "    data_close_sampled = resample(data_close, replace=True, n_samples=n_samples, random_state=42)\n",
    "    # combine majority and oversampled minority\n",
    "    data_sampled = pd.concat([data_open, data_close_sampled])\n",
    "    \n",
    "    return data_sampled, X_test, y_test\n",
    "\n",
    "data_sampled, X_test, y_test = resampling_data(data)"
   ]
  },
  {
   "cell_type": "markdown",
   "metadata": {},
   "source": [
    "## Tuning Parameters"
   ]
  },
  {
   "cell_type": "code",
   "execution_count": 110,
   "metadata": {},
   "outputs": [
    {
     "name": "stdout",
     "output_type": "stream",
     "text": [
      "Fitting 5 folds for each of 64 candidates, totalling 320 fits\n"
     ]
    },
    {
     "name": "stderr",
     "output_type": "stream",
     "text": [
      "[Parallel(n_jobs=-1)]: Using backend LokyBackend with 4 concurrent workers.\n",
      "[Parallel(n_jobs=-1)]: Done  33 tasks      | elapsed:   48.5s\n",
      "[Parallel(n_jobs=-1)]: Done 154 tasks      | elapsed:  3.0min\n",
      "[Parallel(n_jobs=-1)]: Done 320 out of 320 | elapsed:  6.3min finished\n"
     ]
    },
    {
     "name": "stdout",
     "output_type": "stream",
     "text": [
      "The best parameters are:\n",
      "\n",
      "LGBMClassifier(boosting_type='gbdt', class_weight=None, colsample_bytree=1.0,\n",
      "        importance_type='split', learning_rate=0.05, max_depth=-1,\n",
      "        min_child_samples=20, min_child_weight=0.001, min_data_in_leaf=100,\n",
      "        min_split_gain=0.0, n_estimators=1000, n_jobs=-1, num_leaves=10,\n",
      "        objective='binary', random_state=None, reg_alpha=0.0,\n",
      "        reg_lambda=0.0, silent=True, subsample=1.0,\n",
      "        subsample_for_bin=200000, subsample_freq=0)\n",
      "0.915 (+/-0.005) for {'learning_rate': 0.05, 'min_data_in_leaf': 100, 'num_leaves': 10}\n",
      "0.913 (+/-0.005) for {'learning_rate': 0.05, 'min_data_in_leaf': 100, 'num_leaves': 30}\n",
      "0.913 (+/-0.005) for {'learning_rate': 0.05, 'min_data_in_leaf': 100, 'num_leaves': 50}\n",
      "0.912 (+/-0.007) for {'learning_rate': 0.05, 'min_data_in_leaf': 100, 'num_leaves': 80}\n",
      "0.915 (+/-0.003) for {'learning_rate': 0.05, 'min_data_in_leaf': 300, 'num_leaves': 10}\n",
      "0.911 (+/-0.006) for {'learning_rate': 0.05, 'min_data_in_leaf': 300, 'num_leaves': 30}\n",
      "0.911 (+/-0.006) for {'learning_rate': 0.05, 'min_data_in_leaf': 300, 'num_leaves': 50}\n",
      "0.911 (+/-0.006) for {'learning_rate': 0.05, 'min_data_in_leaf': 300, 'num_leaves': 80}\n",
      "0.913 (+/-0.006) for {'learning_rate': 0.05, 'min_data_in_leaf': 700, 'num_leaves': 10}\n",
      "0.912 (+/-0.002) for {'learning_rate': 0.05, 'min_data_in_leaf': 700, 'num_leaves': 30}\n",
      "0.912 (+/-0.002) for {'learning_rate': 0.05, 'min_data_in_leaf': 700, 'num_leaves': 50}\n",
      "0.912 (+/-0.002) for {'learning_rate': 0.05, 'min_data_in_leaf': 700, 'num_leaves': 80}\n",
      "0.914 (+/-0.001) for {'learning_rate': 0.05, 'min_data_in_leaf': 1000, 'num_leaves': 10}\n",
      "0.914 (+/-0.002) for {'learning_rate': 0.05, 'min_data_in_leaf': 1000, 'num_leaves': 30}\n",
      "0.914 (+/-0.002) for {'learning_rate': 0.05, 'min_data_in_leaf': 1000, 'num_leaves': 50}\n",
      "0.914 (+/-0.002) for {'learning_rate': 0.05, 'min_data_in_leaf': 1000, 'num_leaves': 80}\n",
      "0.912 (+/-0.005) for {'learning_rate': 0.1, 'min_data_in_leaf': 100, 'num_leaves': 10}\n",
      "0.911 (+/-0.004) for {'learning_rate': 0.1, 'min_data_in_leaf': 100, 'num_leaves': 30}\n",
      "0.914 (+/-0.005) for {'learning_rate': 0.1, 'min_data_in_leaf': 100, 'num_leaves': 50}\n",
      "0.912 (+/-0.005) for {'learning_rate': 0.1, 'min_data_in_leaf': 100, 'num_leaves': 80}\n",
      "0.911 (+/-0.005) for {'learning_rate': 0.1, 'min_data_in_leaf': 300, 'num_leaves': 10}\n",
      "0.911 (+/-0.007) for {'learning_rate': 0.1, 'min_data_in_leaf': 300, 'num_leaves': 30}\n",
      "0.909 (+/-0.007) for {'learning_rate': 0.1, 'min_data_in_leaf': 300, 'num_leaves': 50}\n",
      "0.909 (+/-0.007) for {'learning_rate': 0.1, 'min_data_in_leaf': 300, 'num_leaves': 80}\n",
      "0.910 (+/-0.001) for {'learning_rate': 0.1, 'min_data_in_leaf': 700, 'num_leaves': 10}\n",
      "0.910 (+/-0.004) for {'learning_rate': 0.1, 'min_data_in_leaf': 700, 'num_leaves': 30}\n",
      "0.910 (+/-0.004) for {'learning_rate': 0.1, 'min_data_in_leaf': 700, 'num_leaves': 50}\n",
      "0.910 (+/-0.004) for {'learning_rate': 0.1, 'min_data_in_leaf': 700, 'num_leaves': 80}\n",
      "0.910 (+/-0.006) for {'learning_rate': 0.1, 'min_data_in_leaf': 1000, 'num_leaves': 10}\n",
      "0.909 (+/-0.005) for {'learning_rate': 0.1, 'min_data_in_leaf': 1000, 'num_leaves': 30}\n",
      "0.909 (+/-0.005) for {'learning_rate': 0.1, 'min_data_in_leaf': 1000, 'num_leaves': 50}\n",
      "0.909 (+/-0.005) for {'learning_rate': 0.1, 'min_data_in_leaf': 1000, 'num_leaves': 80}\n",
      "0.911 (+/-0.007) for {'learning_rate': 0.15, 'min_data_in_leaf': 100, 'num_leaves': 10}\n",
      "0.912 (+/-0.004) for {'learning_rate': 0.15, 'min_data_in_leaf': 100, 'num_leaves': 30}\n",
      "0.911 (+/-0.007) for {'learning_rate': 0.15, 'min_data_in_leaf': 100, 'num_leaves': 50}\n",
      "0.913 (+/-0.007) for {'learning_rate': 0.15, 'min_data_in_leaf': 100, 'num_leaves': 80}\n",
      "0.909 (+/-0.004) for {'learning_rate': 0.15, 'min_data_in_leaf': 300, 'num_leaves': 10}\n",
      "0.908 (+/-0.008) for {'learning_rate': 0.15, 'min_data_in_leaf': 300, 'num_leaves': 30}\n",
      "0.911 (+/-0.008) for {'learning_rate': 0.15, 'min_data_in_leaf': 300, 'num_leaves': 50}\n",
      "0.911 (+/-0.008) for {'learning_rate': 0.15, 'min_data_in_leaf': 300, 'num_leaves': 80}\n",
      "0.908 (+/-0.003) for {'learning_rate': 0.15, 'min_data_in_leaf': 700, 'num_leaves': 10}\n",
      "0.909 (+/-0.004) for {'learning_rate': 0.15, 'min_data_in_leaf': 700, 'num_leaves': 30}\n",
      "0.909 (+/-0.004) for {'learning_rate': 0.15, 'min_data_in_leaf': 700, 'num_leaves': 50}\n",
      "0.909 (+/-0.004) for {'learning_rate': 0.15, 'min_data_in_leaf': 700, 'num_leaves': 80}\n",
      "0.907 (+/-0.004) for {'learning_rate': 0.15, 'min_data_in_leaf': 1000, 'num_leaves': 10}\n",
      "0.908 (+/-0.006) for {'learning_rate': 0.15, 'min_data_in_leaf': 1000, 'num_leaves': 30}\n",
      "0.908 (+/-0.006) for {'learning_rate': 0.15, 'min_data_in_leaf': 1000, 'num_leaves': 50}\n",
      "0.908 (+/-0.006) for {'learning_rate': 0.15, 'min_data_in_leaf': 1000, 'num_leaves': 80}\n",
      "0.910 (+/-0.004) for {'learning_rate': 0.2, 'min_data_in_leaf': 100, 'num_leaves': 10}\n",
      "0.911 (+/-0.006) for {'learning_rate': 0.2, 'min_data_in_leaf': 100, 'num_leaves': 30}\n",
      "0.912 (+/-0.006) for {'learning_rate': 0.2, 'min_data_in_leaf': 100, 'num_leaves': 50}\n",
      "0.911 (+/-0.004) for {'learning_rate': 0.2, 'min_data_in_leaf': 100, 'num_leaves': 80}\n",
      "0.909 (+/-0.004) for {'learning_rate': 0.2, 'min_data_in_leaf': 300, 'num_leaves': 10}\n",
      "0.910 (+/-0.007) for {'learning_rate': 0.2, 'min_data_in_leaf': 300, 'num_leaves': 30}\n",
      "0.910 (+/-0.005) for {'learning_rate': 0.2, 'min_data_in_leaf': 300, 'num_leaves': 50}\n",
      "0.910 (+/-0.005) for {'learning_rate': 0.2, 'min_data_in_leaf': 300, 'num_leaves': 80}\n",
      "0.907 (+/-0.002) for {'learning_rate': 0.2, 'min_data_in_leaf': 700, 'num_leaves': 10}\n",
      "0.908 (+/-0.004) for {'learning_rate': 0.2, 'min_data_in_leaf': 700, 'num_leaves': 30}\n",
      "0.908 (+/-0.004) for {'learning_rate': 0.2, 'min_data_in_leaf': 700, 'num_leaves': 50}\n",
      "0.908 (+/-0.004) for {'learning_rate': 0.2, 'min_data_in_leaf': 700, 'num_leaves': 80}\n",
      "0.906 (+/-0.007) for {'learning_rate': 0.2, 'min_data_in_leaf': 1000, 'num_leaves': 10}\n",
      "0.907 (+/-0.005) for {'learning_rate': 0.2, 'min_data_in_leaf': 1000, 'num_leaves': 30}\n",
      "0.907 (+/-0.005) for {'learning_rate': 0.2, 'min_data_in_leaf': 1000, 'num_leaves': 50}\n",
      "0.907 (+/-0.005) for {'learning_rate': 0.2, 'min_data_in_leaf': 1000, 'num_leaves': 80}\n"
     ]
    }
   ],
   "source": [
    "parameters = {\n",
    "     'num_leaves': [10, 30, 50, 80],\n",
    "     'min_data_in_leaf': [100, 300, 700, 1000],\n",
    "     'learning_rate': [0.05, 0.1, 0.15, 0.2],\n",
    "     }\n",
    "\n",
    "# apply GridSearch on random forest regression to find the best parameter \n",
    "gs = GridSearchCV(lgb.LGBMClassifier(objective='binary', n_estimators=1000), \n",
    "                   parameters, \n",
    "                   cv=5, \n",
    "                   scoring='f1', \n",
    "                   n_jobs=-1,\n",
    "                   verbose=2)\n",
    "\n",
    "gs.fit(X_train, y_train)\n",
    "print('The best parameters are:\\n')\n",
    "print(gs.best_estimator_)\n",
    "\n",
    "means = gs.cv_results_['mean_test_score']\n",
    "stds = gs.cv_results_['std_test_score']\n",
    "for mean, std, params in zip(means, stds, gs.cv_results_['params']):\n",
    "    print(\"%0.3f (+/-%0.03f) for %r\" % (mean, std * 2, params))"
   ]
  },
  {
   "cell_type": "code",
   "execution_count": 122,
   "metadata": {},
   "outputs": [
    {
     "name": "stdout",
     "output_type": "stream",
     "text": [
      "              precision    recall  f1-score   support\n",
      "\n",
      "           0       0.94      0.94      0.94      3807\n",
      "           1       0.95      0.95      0.95      4719\n",
      "\n",
      "   micro avg       0.94      0.94      0.94      8526\n",
      "   macro avg       0.94      0.94      0.94      8526\n",
      "weighted avg       0.94      0.94      0.94      8526\n",
      "\n",
      "----------------------------------------------------------\n",
      "              precision    recall  f1-score   support\n",
      "\n",
      "           0       0.93      0.93      0.93      3744\n",
      "           1       0.94      0.95      0.95      4782\n",
      "\n",
      "   micro avg       0.94      0.94      0.94      8526\n",
      "   macro avg       0.94      0.94      0.94      8526\n",
      "weighted avg       0.94      0.94      0.94      8526\n",
      "\n",
      "----------------------------------------------------------\n",
      "              precision    recall  f1-score   support\n",
      "\n",
      "           0       0.94      0.92      0.93      3809\n",
      "           1       0.93      0.95      0.94      4717\n",
      "\n",
      "   micro avg       0.94      0.94      0.94      8526\n",
      "   macro avg       0.94      0.93      0.93      8526\n",
      "weighted avg       0.94      0.94      0.94      8526\n",
      "\n",
      "----------------------------------------------------------\n",
      "              precision    recall  f1-score   support\n",
      "\n",
      "           0       0.93      0.93      0.93      3751\n",
      "           1       0.94      0.95      0.94      4775\n",
      "\n",
      "   micro avg       0.94      0.94      0.94      8526\n",
      "   macro avg       0.94      0.94      0.94      8526\n",
      "weighted avg       0.94      0.94      0.94      8526\n",
      "\n",
      "----------------------------------------------------------\n",
      "              precision    recall  f1-score   support\n",
      "\n",
      "           0       0.93      0.93      0.93      3768\n",
      "           1       0.94      0.94      0.94      4758\n",
      "\n",
      "   micro avg       0.94      0.94      0.94      8526\n",
      "   macro avg       0.93      0.93      0.93      8526\n",
      "weighted avg       0.94      0.94      0.94      8526\n",
      "\n",
      "----------------------------------------------------------\n",
      "              precision    recall  f1-score   support\n",
      "\n",
      "           0       0.93      0.92      0.92      3783\n",
      "           1       0.93      0.94      0.94      4742\n",
      "\n",
      "   micro avg       0.93      0.93      0.93      8525\n",
      "   macro avg       0.93      0.93      0.93      8525\n",
      "weighted avg       0.93      0.93      0.93      8525\n",
      "\n",
      "----------------------------------------------------------\n",
      "              precision    recall  f1-score   support\n",
      "\n",
      "           0       0.94      0.93      0.94      3784\n",
      "           1       0.94      0.95      0.95      4741\n",
      "\n",
      "   micro avg       0.94      0.94      0.94      8525\n",
      "   macro avg       0.94      0.94      0.94      8525\n",
      "weighted avg       0.94      0.94      0.94      8525\n",
      "\n",
      "----------------------------------------------------------\n",
      "              precision    recall  f1-score   support\n",
      "\n",
      "           0       0.93      0.93      0.93      3767\n",
      "           1       0.94      0.94      0.94      4758\n",
      "\n",
      "   micro avg       0.94      0.94      0.94      8525\n",
      "   macro avg       0.94      0.94      0.94      8525\n",
      "weighted avg       0.94      0.94      0.94      8525\n",
      "\n",
      "----------------------------------------------------------\n",
      "              precision    recall  f1-score   support\n",
      "\n",
      "           0       0.94      0.92      0.93      3887\n",
      "           1       0.94      0.95      0.94      4638\n",
      "\n",
      "   micro avg       0.94      0.94      0.94      8525\n",
      "   macro avg       0.94      0.94      0.94      8525\n",
      "weighted avg       0.94      0.94      0.94      8525\n",
      "\n",
      "----------------------------------------------------------\n",
      "              precision    recall  f1-score   support\n",
      "\n",
      "           0       0.94      0.92      0.93      3791\n",
      "           1       0.94      0.95      0.94      4734\n",
      "\n",
      "   micro avg       0.94      0.94      0.94      8525\n",
      "   macro avg       0.94      0.94      0.94      8525\n",
      "weighted avg       0.94      0.94      0.94      8525\n",
      "\n",
      "----------------------------------------------------------\n"
     ]
    }
   ],
   "source": [
    "def cross_validation(X, y):\n",
    "    scores = []\n",
    "    cv = KFold(n_splits=10, random_state=None, shuffle=True)\n",
    "    lgb_model = lgb.LGBMClassifier(n_estimators=1000,\n",
    "                                       objective='binary',\n",
    "                                       num_leaves=10,\n",
    "                                       min_data_in_leaf=100,\n",
    "                                       learning_rate=0.05,\n",
    "                                       n_jobs=-1   \n",
    "                                       )\n",
    "    for train_index, test_index in cv.split(X):\n",
    "        \n",
    "        X_train, X_test, y_train, y_test = X.iloc[train_index], X.iloc[test_index], y.iloc[train_index], y.iloc[test_index]\n",
    "        lgb_model.fit(X_train, y_train)\n",
    "        y_pred = lgb_model.predict(X_test)\n",
    "        print(classification_report(y_test, y_pred))\n",
    "        print('----------------------------------------------------------')\n",
    "        \n",
    "    return lgb_model\n",
    "    \n",
    "lgb_model = cross_validation(data_sampled.drop(columns='is_open'), data_sampled['is_open'])"
   ]
  },
  {
   "cell_type": "markdown",
   "metadata": {},
   "source": [
    "## lightGBM"
   ]
  },
  {
   "cell_type": "code",
   "execution_count": 123,
   "metadata": {},
   "outputs": [
    {
     "name": "stdout",
     "output_type": "stream",
     "text": [
      "              precision    recall  f1-score   support\n",
      "\n",
      "           0       0.77      0.87      0.81      4475\n",
      "           1       0.97      0.95      0.96     23192\n",
      "\n",
      "   micro avg       0.94      0.94      0.94     27667\n",
      "   macro avg       0.87      0.91      0.89     27667\n",
      "weighted avg       0.94      0.94      0.94     27667\n",
      "\n"
     ]
    },
    {
     "data": {
      "image/png": "[encoded data removed]",
      "text/plain": [
       "<Figure size 1152x864 with 1 Axes>"
      ]
     },
     "metadata": {
      "needs_background": "light"
     },
     "output_type": "display_data"
    },
    {
     "name": "stdout",
     "output_type": "stream",
     "text": [
      "-----------------------------------------------------------\n",
      "Confusion matrix\n",
      "[[ 3890   585]\n",
      " [ 1192 22000]]\n",
      "-----------------------------------------------------------\n",
      "Accuracy is: 93.58%\n"
     ]
    },
    {
     "data": {
      "image/png": "[encoded data removed]",
      "text/plain": [
       "<Figure size 432x288 with 1 Axes>"
      ]
     },
     "metadata": {
      "needs_background": "light"
     },
     "output_type": "display_data"
    }
   ],
   "source": [
    "# def lightgbm_model(X, y):\n",
    "#     # split the data into test and training sets\n",
    "#     X_train, X_test, y_train, y_test = train_test_split(X, y, test_size=0.2, random_state=21)\n",
    "#     # initialize lightGBM mdoel\n",
    "#     lgb_model = lgb.LGBMClassifier(n_estimators=1000,\n",
    "#                                objective='binary',\n",
    "#                                num_leaves=10,\n",
    "#                                min_data_in_leaf=100,\n",
    "#                                learning_rate=0.05,\n",
    "#                                n_jobs=-1   \n",
    "#                                )\n",
    "#     # fit the model\n",
    "#     lgb_model.fit(X_train, y_train)\n",
    "# #     y_pred = lgb_model.predict(X_test)\n",
    "#     # results\n",
    "#     print('lightGBM score for training set: %f' % lgb_model.score(X_train, y_train))\n",
    "#     print('lightGBM score for testing set: %f' % lgb_model.score(X_test, y_test))\n",
    "#     print('-----------------------------------------------------------')\n",
    "# #     print(classification_report(y_test, y_pred))\n",
    "# #     fig, axes = plt.subplots()\n",
    "# #     fig.set_size_inches(16, 12)\n",
    "# #     lgb.plot_importance(lgb_model, ax=axes)\n",
    "# #     plt.show()\n",
    "    \n",
    "#     return lgb_model\n",
    "\n",
    "# lgb_model = lightgbm_model(data_sampled.drop(columns='is_open'), data_sampled['is_open'])\n",
    "y_pred = lgb_model.predict(X_test)\n",
    "print(classification_report(y_test, y_pred))\n",
    "fig, axes = plt.subplots()\n",
    "fig.set_size_inches(16, 12)\n",
    "lgb.plot_importance(lgb_model, ax=axes)\n",
    "plt.show()\n",
    "\n",
    "# get confusion matrix\n",
    "print('-----------------------------------------------------------')\n",
    "print('Confusion matrix')\n",
    "cm = confusion_matrix(y_test, y_pred)\n",
    "print(cm)\n",
    "print('-----------------------------------------------------------')\n",
    "accuracy= str(np.round((cm[0][0] + cm[1][1])/np.sum(cm), 4) *100)+'%' \n",
    "print(\"Accuracy is: {}\".format(accuracy))\n",
    "# fig = plt.figure()\n",
    "# ax = fig.add_subplot(111)\n",
    "# cax = ax.matshow(cm)\n",
    "# plt.title('Confusion matrix of the classifier')\n",
    "# fig.colorbar(cax)\n",
    "# plt.xlabel('Predicted')\n",
    "# plt.ylabel('True')\n",
    "# plt.show()\n",
    "fp, tp, _ = roc_curve(y_test, y_pred)\n",
    "plt.plot(fp, tp, label='lighGBM')\n",
    "plt.xlabel('False Positive')\n",
    "plt.ylabel('True Positive')\n",
    "plt.title('ROC curves')\n",
    "plt.show()"
   ]
  },
  {
   "cell_type": "markdown",
   "metadata": {},
   "source": [
    "## Logistic Regression"
   ]
  },
  {
   "cell_type": "code",
   "execution_count": 45,
   "metadata": {},
   "outputs": [
    {
     "name": "stdout",
     "output_type": "stream",
     "text": [
      "Logistic regression score for training set: 0.715251\n",
      "Logistic regression score for testing set: 0.709071\n",
      "              precision    recall  f1-score   support\n",
      "\n",
      "           0       0.71      0.68      0.69      4396\n",
      "           1       0.71      0.74      0.72      4644\n",
      "\n",
      "   micro avg       0.71      0.71      0.71      9040\n",
      "   macro avg       0.71      0.71      0.71      9040\n",
      "weighted avg       0.71      0.71      0.71      9040\n",
      "\n"
     ]
    }
   ],
   "source": [
    "from sklearn.linear_model import LogisticRegression\n",
    "\n",
    "def logistic_regression_model(X, y):\n",
    "    # split the data into test and training sets\n",
    "    X_train, X_test, y_train, y_test = train_test_split(X, y, test_size=0.33, random_state=21)\n",
    "    # initial logistic regression model\n",
    "    lr = LogisticRegression(solver='liblinear', max_iter=1000)\n",
    "    # fit the model\n",
    "    lr.fit(X_train, y_train)\n",
    "    y_pred = lr.predict(X_test)\n",
    "    # classification results\n",
    "    print('Logistic regression score for training set: %f' % lr.score(X_train, y_train))\n",
    "    print('Logistic regression score for testing set: %f' % lr.score(X_test, y_test))\n",
    "    print(classification_report(y_test, y_pred))\n",
    "\n",
    "logistic_regression_model(X, y)"
   ]
  },
  {
   "cell_type": "markdown",
   "metadata": {},
   "source": [
    "## Random Forests"
   ]
  },
  {
   "cell_type": "code",
   "execution_count": 44,
   "metadata": {},
   "outputs": [
    {
     "name": "stdout",
     "output_type": "stream",
     "text": [
      "Random Forests score for training set: 0.898132\n",
      "Random Forests score for testing set: 0.897821\n",
      "-----------------------------------------------------------\n",
      "              precision    recall  f1-score   support\n",
      "\n",
      "           0       0.97      0.36      0.53      4352\n",
      "           1       0.89      1.00      0.94     23315\n",
      "\n",
      "   micro avg       0.90      0.90      0.90     27667\n",
      "   macro avg       0.93      0.68      0.73     27667\n",
      "weighted avg       0.91      0.90      0.88     27667\n",
      "\n"
     ]
    },
    {
     "data": {
      "image/png": "[encoded data removed]",
      "text/plain": [
       "<Figure size 1152x864 with 1 Axes>"
      ]
     },
     "metadata": {
      "needs_background": "light"
     },
     "output_type": "display_data"
    }
   ],
   "source": [
    "from sklearn.ensemble import RandomForestClassifier\n",
    "\n",
    "def random_forests_classifer(X, y):\n",
    "    # split the data into test and training sets\n",
    "    X_train, X_test, y_train, y_test = train_test_split(X, y, test_size=0.33, random_state=21)\n",
    "    # initialize random forests model\n",
    "    rf = RandomForestClassifier(n_estimators=1000, max_depth=2, random_state=21)\n",
    "    # fit the model\n",
    "    rf.fit(X_train, y_train)\n",
    "    y_pred = rf.predict(X_test)\n",
    "    # results\n",
    "    print('Random Forests score for training set: %f' % rf.score(X_train, y_train))\n",
    "    print('Random Forests score for testing set: %f' % rf.score(X_test, y_test))\n",
    "    print('-----------------------------------------------------------')\n",
    "    print(classification_report(y_test, y_pred))\n",
    "    fig, axes = plt.subplots()\n",
    "    fig.set_size_inches(16, 12)\n",
    "    feature_importances = pd.Series(rf.feature_importances_, index=X.columns)\n",
    "    feature_importances.nlargest(10).plot(kind='barh')\n",
    "    plt.show()\n",
    "\n",
    "rf_X, rf_y = prepare_data(data)\n",
    "random_forests_classifer(rf_X, rf_y)"
   ]
  },
  {
   "cell_type": "code",
   "execution_count": 34,
   "metadata": {},
   "outputs": [
    {
     "data": {
      "text/plain": [
       "<matplotlib.axes._subplots.AxesSubplot at 0x7fe8d90225c0>"
      ]
     },
     "execution_count": 34,
     "metadata": {},
     "output_type": "execute_result"
    },
    {
     "data": {
      "image/png": "[encoded data removed]",
      "text/plain": [
       "<Figure size 432x288 with 1 Axes>"
      ]
     },
     "metadata": {
      "needs_background": "light"
     },
     "output_type": "display_data"
    }
   ],
   "source": [
    "data_open['checkin_latest_month'].hist()"
   ]
  },
  {
   "cell_type": "code",
   "execution_count": 36,
   "metadata": {},
   "outputs": [
    {
     "data": {
      "text/plain": [
       "<matplotlib.axes._subplots.AxesSubplot at 0x7fe8d8f1d710>"
      ]
     },
     "execution_count": 36,
     "metadata": {},
     "output_type": "execute_result"
    },
    {
     "data": {
      "image/png": "[encoded data removed]",
      "text/plain": [
       "<Figure size 432x288 with 1 Axes>"
      ]
     },
     "metadata": {
      "needs_background": "light"
     },
     "output_type": "display_data"
    }
   ],
   "source": [
    "data_open['review_latest_month'].hist()"
   ]
  }
 ],
 "metadata": {
  "kernelspec": {
   "display_name": "Python 3",
   "language": "python",
   "name": "python3"
  },
  "language_info": {
   "codemirror_mode": {
    "name": "ipython",
    "version": 3
   },
   "file_extension": ".py",
   "mimetype": "text/x-python",
   "name": "python",
   "nbconvert_exporter": "python",
   "pygments_lexer": "ipython3",
   "version": "3.7.3"
  }
 },
 "nbformat": 4,
 "nbformat_minor": 2
}
